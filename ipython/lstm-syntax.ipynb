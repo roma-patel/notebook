{
 "cells": [
  {
   "cell_type": "markdown",
   "metadata": {
    "collapsed": true
   },
   "source": [
    "### Import and Setup"
   ]
  },
  {
   "cell_type": "code",
   "execution_count": 4,
   "metadata": {
    "collapsed": true
   },
   "outputs": [],
   "source": [
    "import tensorflow as tf\n",
    "from tensorflow.contrib import rnn\n",
    "import numpy as np\n",
    "import collections\n",
    "import yaml\n",
    "from matplotlib import pyplot as plt\n",
    "from nltk.util import ngrams\n",
    "\n",
    "annotypes = ['Participants', 'Intervention', 'Outcome']"
   ]
  },
  {
   "cell_type": "markdown",
   "metadata": {
    "collapsed": true
   },
   "source": [
    "### Model"
   ]
  },
  {
   "cell_type": "markdown",
   "metadata": {
    "collapsed": true
   },
   "source": [
    "### Autoslog for Syntactic Patterns"
   ]
  },
  {
   "cell_type": "code",
   "execution_count": 5,
   "metadata": {
    "collapsed": true
   },
   "outputs": [],
   "source": [
    "fnames = [annotype + '.slist' for annotype in annotypes]"
   ]
  },
  {
   "cell_type": "code",
   "execution_count": 6,
   "metadata": {},
   "outputs": [
    {
     "data": {
      "text/plain": [
       "'\\ncd /nlp/data/romap/autoslog/sundance-v5.1/bin\\n./aslog -r /nlp/data/romap/autoslog/inputs/part_relevant.txt -l /nlp/data/romap/autoslog/inputs/part.slist -u 2 -o /nlp/data/romap/autoslog/inputs/part_all/\\n./aslog -2 /nlp/data/romap/autoslog/inputs/part_all/part.slist.caseframes_1 -r /nlp/data/romap/autoslog/inputs/part_relevant.txt -l /nlp/data/romap/autoslog/inputs/part.slist -u 2 -o /nlp/data/romap/autoslog/inputs/part_all/\\n./aslog -r /nlp/data/romap/autoslog/inputs/out_relevant.txt -l /nlp/data/romap/autoslog/inputs/out.slist -u 2 -o /nlp/data/romap/autoslog/inputs/out_all/\\n./aslog -2 /nlp/data/romap/autoslog/inputs/out_all/out.slist.caseframes_1 -r /nlp/data/romap/autoslog/inputs/out_relevant.txt -l /nlp/data/romap/autoslog/inputs/out.slist -u 2 -o /nlp/data/romap/autoslog/inputs/out_all/\\n./aslog -r /nlp/data/romap/autoslog/inputs/int_relevant.txt -l /nlp/data/romap/autoslog/inputs/int.slist -u 2 -o /nlp/data/romap/autoslog/inputs/int_all/\\n./aslog -2 /nlp/data/romap/autoslog/inputs/int_all/int.slist.caseframes_1 -r /nlp/data/romap/autoslog/inputs/int_relevant.txt -l /nlp/data/romap/autoslog/inputs/int.slist -u 2 -o /nlp/data/romap/autoslog/inputs/int_all/romap@nlpgrid:/nlp/data/romap/autoslog/inputs>\\n'"
      ]
     },
     "execution_count": 6,
     "metadata": {},
     "output_type": "execute_result"
    }
   ],
   "source": [
    "#shell script to run aslog system, run on grid within folder\n",
    "\n",
    "'''\n",
    "cd /nlp/data/romap/autoslog/sundance-v5.1/bin\n",
    "./aslog -r /nlp/data/romap/autoslog/inputs/part_relevant.txt -l /nlp/data/romap/autoslog/inputs/part.slist -u 2 -o /nlp/data/romap/autoslog/inputs/part_all/\n",
    "./aslog -2 /nlp/data/romap/autoslog/inputs/part_all/part.slist.caseframes_1 -r /nlp/data/romap/autoslog/inputs/part_relevant.txt -l /nlp/data/romap/autoslog/inputs/part.slist -u 2 -o /nlp/data/romap/autoslog/inputs/part_all/\n",
    "./aslog -r /nlp/data/romap/autoslog/inputs/out_relevant.txt -l /nlp/data/romap/autoslog/inputs/out.slist -u 2 -o /nlp/data/romap/autoslog/inputs/out_all/\n",
    "./aslog -2 /nlp/data/romap/autoslog/inputs/out_all/out.slist.caseframes_1 -r /nlp/data/romap/autoslog/inputs/out_relevant.txt -l /nlp/data/romap/autoslog/inputs/out.slist -u 2 -o /nlp/data/romap/autoslog/inputs/out_all/\n",
    "./aslog -r /nlp/data/romap/autoslog/inputs/int_relevant.txt -l /nlp/data/romap/autoslog/inputs/int.slist -u 2 -o /nlp/data/romap/autoslog/inputs/int_all/\n",
    "./aslog -2 /nlp/data/romap/autoslog/inputs/int_all/int.slist.caseframes_1 -r /nlp/data/romap/autoslog/inputs/int_relevant.txt -l /nlp/data/romap/autoslog/inputs/int.slist -u 2 -o /nlp/data/romap/autoslog/inputs/int_all/romap@nlpgrid:/nlp/data/romap/autoslog/inputs>\n",
    "'''"
   ]
  },
  {
   "cell_type": "code",
   "execution_count": 7,
   "metadata": {
    "collapsed": true
   },
   "outputs": [],
   "source": [
    "#include these in config for LSTM\n",
    "#change build_data in LSTM for pattern indicators\n",
    "\n",
    "pnames = [annotype + '_patterns.yaml' for annotype in annotypes]"
   ]
  },
  {
   "cell_type": "markdown",
   "metadata": {
    "collapsed": true
   },
   "source": [
    "### LSTM-CRF Model"
   ]
  },
  {
   "cell_type": "code",
   "execution_count": 8,
   "metadata": {},
   "outputs": [
    {
     "data": {
      "text/plain": [
       "'source /home1/r/romap/crf/crf_task/bin/activate\\npython /nlp/data/romap/naacl-pattern/lstm/joint/model_1/build_data.py\\npython /nlp/data/romap/naacl-pattern/lstm/joint/model_1/train.py\\npython /nlp/data/romap/naacl-pattern/lstm/joint/model_1/evaluate.py\\n'"
      ]
     },
     "execution_count": 8,
     "metadata": {},
     "output_type": "execute_result"
    }
   ],
   "source": [
    "#shell to run variants of same model and evaluate on grid\n",
    "\n",
    "'''source /home1/r/romap/crf/crf_task/bin/activate\n",
    "python /nlp/data/romap/naacl-pattern/lstm/joint/model_1/build_data.py\n",
    "python /nlp/data/romap/naacl-pattern/lstm/joint/model_1/train.py\n",
    "python /nlp/data/romap/naacl-pattern/lstm/joint/model_1/evaluate.py\n",
    "'''"
   ]
  },
  {
   "cell_type": "markdown",
   "metadata": {
    "collapsed": true
   },
   "source": [
    "### Simple (test) LSTM"
   ]
  },
  {
   "cell_type": "code",
   "execution_count": 9,
   "metadata": {},
   "outputs": [
    {
     "ename": "NameError",
     "evalue": "global name 'learning_rate' is not defined",
     "output_type": "error",
     "traceback": [
      "\u001b[0;31m---------------------------------------------------------------------------\u001b[0m",
      "\u001b[0;31mNameError\u001b[0m                                 Traceback (most recent call last)",
      "\u001b[0;32m<ipython-input-9-4fb587f912a5>\u001b[0m in \u001b[0;36m<module>\u001b[0;34m()\u001b[0m\n\u001b[1;32m     50\u001b[0m \u001b[0;34m\u001b[0m\u001b[0m\n\u001b[1;32m     51\u001b[0m \u001b[0;34m\u001b[0m\u001b[0m\n\u001b[0;32m---> 52\u001b[0;31m \u001b[0mtest\u001b[0m\u001b[0;34m(\u001b[0m\u001b[0;34m)\u001b[0m\u001b[0;34m\u001b[0m\u001b[0m\n\u001b[0m",
      "\u001b[0;32m<ipython-input-9-4fb587f912a5>\u001b[0m in \u001b[0;36mtest\u001b[0;34m()\u001b[0m\n\u001b[1;32m     35\u001b[0m     \u001b[0moutputs\u001b[0m\u001b[0;34m[\u001b[0m\u001b[0mdictionary\u001b[0m\u001b[0;34m[\u001b[0m\u001b[0mstr\u001b[0m\u001b[0;34m(\u001b[0m\u001b[0mwords\u001b[0m\u001b[0;34m[\u001b[0m\u001b[0moffset\u001b[0m \u001b[0;34m+\u001b[0m \u001b[0mn_input\u001b[0m\u001b[0;34m]\u001b[0m\u001b[0;34m)\u001b[0m\u001b[0;34m]\u001b[0m\u001b[0;34m]\u001b[0m \u001b[0;34m=\u001b[0m \u001b[0;36m1.0\u001b[0m\u001b[0;34m\u001b[0m\u001b[0m\n\u001b[1;32m     36\u001b[0m     \u001b[0msession\u001b[0m \u001b[0;34m=\u001b[0m \u001b[0mtf\u001b[0m\u001b[0;34m.\u001b[0m\u001b[0mSession\u001b[0m\u001b[0;34m(\u001b[0m\u001b[0;34m)\u001b[0m\u001b[0;34m\u001b[0m\u001b[0m\n\u001b[0;32m---> 37\u001b[0;31m     \u001b[0moptimizer\u001b[0m \u001b[0;34m=\u001b[0m \u001b[0mtf\u001b[0m\u001b[0;34m.\u001b[0m\u001b[0mtrain\u001b[0m\u001b[0;34m.\u001b[0m\u001b[0mRMSPropOptimizer\u001b[0m\u001b[0;34m(\u001b[0m\u001b[0mlearning_rate\u001b[0m\u001b[0;34m=\u001b[0m\u001b[0mlearning_rate\u001b[0m\u001b[0;34m)\u001b[0m\u001b[0;34m.\u001b[0m\u001b[0mminimize\u001b[0m\u001b[0;34m(\u001b[0m\u001b[0mcost\u001b[0m\u001b[0;34m)\u001b[0m\u001b[0;34m\u001b[0m\u001b[0m\n\u001b[0m\u001b[1;32m     38\u001b[0m \u001b[0;34m\u001b[0m\u001b[0m\n\u001b[1;32m     39\u001b[0m \u001b[0;34m\u001b[0m\u001b[0m\n",
      "\u001b[0;31mNameError\u001b[0m: global name 'learning_rate' is not defined"
     ]
    }
   ],
   "source": [
    "def RNN(x, weights, biases):\n",
    "    x = tf.reshape(x, [-1, n_input])\n",
    "    x = tf.split(x, n_input, axis=1)\n",
    "    rnn_cell = rnn.BasicLSTMCell(n_hidden)\n",
    "    outputs, states = rnn.static_rnn(rnn_cell, x, dtype=tf.float32)\n",
    "    final = tf.matmul(output[-1], (weights['out'] + biases['out']))\n",
    "    print final\n",
    "    return final\n",
    "    \n",
    "def create_dataset(words):\n",
    "    #build lookup dictionary and reverse dictionary\n",
    "    count = collections.Counter(words)\n",
    "    dictionary, reverse_dictionary = {}, {}\n",
    "    for word in count:\n",
    "        reverse_dictionary[(len(dictionary))] = word\n",
    "        dictionary[word] = len(dictionary)\n",
    "    return dictionary, reverse_dictionary\n",
    "        \n",
    "create_dataset(['hi', 'Brown', 'is', 'great'])\n",
    "    \n",
    "def get_words():\n",
    "    s = 'had a general council to consider what measures they could take to outwit their common enemy , the cat . some said this , and some said that but at last a young mouse got'\n",
    "    return s.split(' ')\n",
    "    \n",
    "def test():\n",
    "    words = get_words()\n",
    "    dictionary, reverse_dictionary = create_dataset(words)\n",
    "    n_input, n_hidden, vocab_size, offset = 3, 512, len(dictionary.keys()), 0\n",
    "    weights = {'out': tf.Variable(tf.random_normal([n_hidden, vocab_size]))}\n",
    "    biases = {'out': tf.Variable(tf.random_normal([vocab_size]))}\n",
    "                      \n",
    "        \n",
    "    inputs = [dictionary[str(words[i])] for i in range(offset, (offset + n_input))]\n",
    "    outputs = np.zeros([vocab_size], dtype=float)\n",
    "    outputs[dictionary[str(words[offset + n_input])]] = 1.0\n",
    "    session = tf.Session()\n",
    "    optimizer = tf.train.RMSPropOptimizer(learning_rate=learning_rate).minimize(cost)\n",
    "\n",
    "\n",
    "    _, acc, loss, onehot_pred = session.run(\n",
    "        [optimizer, accuracy, cost, pred], \n",
    "        feed_dict={x: inputs, \n",
    "        y: outputs})\n",
    "                      \n",
    "    pred = RNN(x, weights, biases)\n",
    "    cost = tf.reduce_mean(tf.nn.softmax_cross_entropy_with_logits(logits=pred, labels=y))\n",
    "    \n",
    "    rnn_cell = rnn.MultiRNNCell([rnn.BasicLSTMCell(n_hidden),rnn.BasicLSTMCell(n_hidden)])\n",
    "                      \n",
    "                      \n",
    "                      \n",
    "test()"
   ]
  },
  {
   "cell_type": "code",
   "execution_count": null,
   "metadata": {
    "collapsed": true
   },
   "outputs": [],
   "source": []
  }
 ],
 "metadata": {
  "kernelspec": {
   "display_name": "Python 2",
   "language": "python",
   "name": "python2"
  },
  "language_info": {
   "codemirror_mode": {
    "name": "ipython",
    "version": 2
   },
   "file_extension": ".py",
   "mimetype": "text/x-python",
   "name": "python",
   "nbconvert_exporter": "python",
   "pygments_lexer": "ipython2",
   "version": "2.7.9"
  }
 },
 "nbformat": 4,
 "nbformat_minor": 2
}
