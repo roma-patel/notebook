{
 "cells": [
  {
   "cell_type": "code",
   "execution_count": 108,
   "metadata": {},
   "outputs": [],
   "source": [
    "#import things\n",
    "import numpy as np\n",
    "from pandas import DataFrame as df\n",
    "import itertools, json, os, re\n",
    "import seaborn as sns\n",
    "import matplotlib.pyplot as plt\n"
   ]
  },
  {
   "cell_type": "code",
   "execution_count": 109,
   "metadata": {},
   "outputs": [],
   "source": [
    "#define lexicons and visuals\n",
    "\n",
    "def get_cleanup_elements():\n",
    "    objects = ['orange_spoon', 'pink_rug', 'blue_teapot', 'yellow_lamp']\n",
    "    rooms = ['red_hall', 'green_kitchen', 'purple_bedroom']\n",
    "    return rooms, objects\n",
    "\n",
    "def get_shapeworld_elements():\n",
    "    objects = sorted(['red_square', 'green_square', 'red_circle', 'green_circle'])\n",
    "    attributes = sorted(['square', 'circle', 'green', 'red', 'red_square', 'red_circle', 'green_square', 'green_circle'])\n",
    "    return attributes, objects\n",
    "\n",
    "def lexicon_true(attr, obj):\n",
    "    attr_items, obj_items = attr.split('_'), obj.split('_')\n",
    "    return len(list(set(attr_items) & set(obj_items))) >= len(attr_items)\n",
    "\n",
    "def hard_coded_lexicon():\n",
    "    #rooms, objects = get_cleanup_elements()\n",
    "    rows, cols = get_shapeworld_elements()\n",
    "    nrows, ncols = len(rows), len(cols)\n",
    "\n",
    "    matrix = np.zeros((nrows, ncols))\n",
    "    for i in range(len(rows)):\n",
    "        for j in range(len(cols)):\n",
    "            if lexicon_true(rows[i], cols[j]):\n",
    "                matrix[i][j] = 1.0\n",
    "                \n",
    "    dataframe = df(data = matrix, columns = cols, index = rows)\n",
    "    return dataframe\n",
    "\n",
    "def add_prior(objects, prior, lex):\n",
    "    rows, cols = lex.index, lex.columns\n",
    "    matrix = lex.values\n",
    "\n",
    "    for i in range(len(prior)):\n",
    "        for row in range(len(matrix)):\n",
    "            matrix[row][i] *= prior[i]\n",
    "\n",
    "    print('Fine')\n",
    "    dataframe = df(data = matrix, columns = cols, index = rows)\n",
    "    print('Fine')\n",
    "    matrix = row_norm(matrix)\n",
    "    print('Fine')\n",
    "    dataframe = df(data = matrix, columns = cols, index = rows)\n",
    "    print('Fine')\n",
    "    return dataframe\n",
    "\n",
    "def visualise(df):\n",
    "    print('Dataframe:\\n', df)\n",
    "    sns.set()\n",
    "    refs, utterances = list(df.index), list(df.columns)\n",
    "    print(refs, utterances)\n",
    "    \n",
    "    ax = sns.heatmap(df.values, cmap=\"YlGnBu\")\n",
    "    ax.set_xlabel('Referents'); ax.set_ylabel('Utterances')\n",
    "    ax.set(yticklabels=refs)\n",
    "    ax.set(xticklabels=utterances)\n",
    "    plt.setp(ax.get_yticklabels(), rotation=45);\n",
    "    plt.show()\n"
   ]
  },
  {
   "cell_type": "code",
   "execution_count": 110,
   "metadata": {},
   "outputs": [
    {
     "name": "stdout",
     "output_type": "stream",
     "text": [
      "Fine\n"
     ]
    },
    {
     "ename": "TypeError",
     "evalue": "'DataFrame' object is not callable",
     "output_type": "error",
     "traceback": [
      "\u001b[0;31m---------------------------------------------------------------------------\u001b[0m",
      "\u001b[0;31mTypeError\u001b[0m                                 Traceback (most recent call last)",
      "\u001b[0;32m<ipython-input-110-3cdf3990ac1f>\u001b[0m in \u001b[0;36m<module>\u001b[0;34m()\u001b[0m\n\u001b[1;32m      3\u001b[0m \u001b[0mdf\u001b[0m \u001b[0;34m=\u001b[0m \u001b[0mhard_coded_lexicon\u001b[0m\u001b[0;34m(\u001b[0m\u001b[0;34m)\u001b[0m\u001b[0;34m\u001b[0m\u001b[0m\n\u001b[1;32m      4\u001b[0m \u001b[0;31m#visualise(df)\u001b[0m\u001b[0;34m\u001b[0m\u001b[0;34m\u001b[0m\u001b[0m\n\u001b[0;32m----> 5\u001b[0;31m \u001b[0mdf\u001b[0m \u001b[0;34m=\u001b[0m \u001b[0madd_prior\u001b[0m\u001b[0;34m(\u001b[0m\u001b[0;34m[\u001b[0m\u001b[0;34m]\u001b[0m\u001b[0;34m,\u001b[0m \u001b[0;34m[\u001b[0m\u001b[0;36m0.7\u001b[0m\u001b[0;34m,\u001b[0m \u001b[0;36m0.1\u001b[0m\u001b[0;34m,\u001b[0m \u001b[0;36m0.1\u001b[0m\u001b[0;34m,\u001b[0m \u001b[0;36m0.1\u001b[0m\u001b[0;34m]\u001b[0m\u001b[0;34m,\u001b[0m \u001b[0mdf\u001b[0m\u001b[0;34m)\u001b[0m\u001b[0;34m\u001b[0m\u001b[0m\n\u001b[0m\u001b[1;32m      6\u001b[0m \u001b[0mvisualise\u001b[0m\u001b[0;34m(\u001b[0m\u001b[0mdf\u001b[0m\u001b[0;34m)\u001b[0m\u001b[0;34m\u001b[0m\u001b[0m\n",
      "\u001b[0;32m<ipython-input-109-4cb6c6294813>\u001b[0m in \u001b[0;36madd_prior\u001b[0;34m(objects, prior, lex)\u001b[0m\n\u001b[1;32m     38\u001b[0m \u001b[0;34m\u001b[0m\u001b[0m\n\u001b[1;32m     39\u001b[0m     \u001b[0mprint\u001b[0m\u001b[0;34m(\u001b[0m\u001b[0;34m'Fine'\u001b[0m\u001b[0;34m)\u001b[0m\u001b[0;34m\u001b[0m\u001b[0m\n\u001b[0;32m---> 40\u001b[0;31m     \u001b[0mdataframe\u001b[0m \u001b[0;34m=\u001b[0m \u001b[0mdf\u001b[0m\u001b[0;34m(\u001b[0m\u001b[0mdata\u001b[0m \u001b[0;34m=\u001b[0m \u001b[0mmatrix\u001b[0m\u001b[0;34m,\u001b[0m \u001b[0mcolumns\u001b[0m \u001b[0;34m=\u001b[0m \u001b[0mcols\u001b[0m\u001b[0;34m,\u001b[0m \u001b[0mindex\u001b[0m \u001b[0;34m=\u001b[0m \u001b[0mrows\u001b[0m\u001b[0;34m)\u001b[0m\u001b[0;34m\u001b[0m\u001b[0m\n\u001b[0m\u001b[1;32m     41\u001b[0m     \u001b[0mprint\u001b[0m\u001b[0;34m(\u001b[0m\u001b[0;34m'Fine'\u001b[0m\u001b[0;34m)\u001b[0m\u001b[0;34m\u001b[0m\u001b[0m\n\u001b[1;32m     42\u001b[0m     \u001b[0mmatrix\u001b[0m \u001b[0;34m=\u001b[0m \u001b[0mrow_norm\u001b[0m\u001b[0;34m(\u001b[0m\u001b[0mmatrix\u001b[0m\u001b[0;34m)\u001b[0m\u001b[0;34m\u001b[0m\u001b[0m\n",
      "\u001b[0;31mTypeError\u001b[0m: 'DataFrame' object is not callable"
     ]
    }
   ],
   "source": [
    "# testing utils\n",
    "\n",
    "df = hard_coded_lexicon()\n",
    "#visualise(df)\n",
    "df = add_prior([], [0.7, 0.1, 0.1, 0.1], df)\n",
    "visualise(df)"
   ]
  },
  {
   "cell_type": "code",
   "execution_count": null,
   "metadata": {},
   "outputs": [],
   "source": [
    "#define modules for agents"
   ]
  },
  {
   "cell_type": "code",
   "execution_count": null,
   "metadata": {},
   "outputs": [],
   "source": []
  },
  {
   "cell_type": "code",
   "execution_count": null,
   "metadata": {},
   "outputs": [],
   "source": []
  }
 ],
 "metadata": {
  "kernelspec": {
   "display_name": "Python 3",
   "language": "python",
   "name": "python3"
  },
  "language_info": {
   "codemirror_mode": {
    "name": "ipython",
    "version": 3
   },
   "file_extension": ".py",
   "mimetype": "text/x-python",
   "name": "python",
   "nbconvert_exporter": "python",
   "pygments_lexer": "ipython3",
   "version": "3.6.5"
  }
 },
 "nbformat": 4,
 "nbformat_minor": 2
}
